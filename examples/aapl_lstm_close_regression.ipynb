{
 "cells": [
  {
   "cell_type": "code",
   "execution_count": 1,
   "metadata": {},
   "outputs": [],
   "source": [
    "import sys\n",
    "sys.path.append(\"../\")"
   ]
  },
  {
   "cell_type": "code",
   "execution_count": 2,
   "metadata": {},
   "outputs": [
    {
     "name": "stderr",
     "output_type": "stream",
     "text": [
      "c:\\ProgramData\\Anaconda3\\envs\\trading-algorithms\\lib\\site-packages\\tqdm\\auto.py:22: TqdmWarning: IProgress not found. Please update jupyter and ipywidgets. See https://ipywidgets.readthedocs.io/en/stable/user_install.html\n",
      "  from .autonotebook import tqdm as notebook_tqdm\n"
     ]
    }
   ],
   "source": [
    "from data_tools.containers import StocksData, StocksTarget\n",
    "from data_tools.model_preprocessors import SequenceModelPreprocessor, StocksDataModelPreprocessor\n",
    "from targets.target_function import ClosePriceTargetFunction\n",
    "from models import LSTMRegressionModel\n",
    "from features import IndicatorsFeaturesList\n",
    "\n",
    "from sklearn.metrics import mean_absolute_percentage_error"
   ]
  },
  {
   "cell_type": "code",
   "execution_count": 4,
   "metadata": {},
   "outputs": [],
   "source": [
    "stocks_data = StocksData(\"../data/market_data/AAPL.csv\")\n",
    "stocks_data = IndicatorsFeaturesList().transform(stocks_data)"
   ]
  },
  {
   "cell_type": "code",
   "execution_count": 5,
   "metadata": {},
   "outputs": [],
   "source": [
    "stocks_target = StocksTarget.from_target_function(stocks_data, ClosePriceTargetFunction(bars_count=3))"
   ]
  },
  {
   "cell_type": "code",
   "execution_count": 6,
   "metadata": {},
   "outputs": [],
   "source": [
    "train_data, val_data, train_target, val_target = StocksDataModelPreprocessor.split(stocks_data, stocks_target, threshold=\"2022-11-12\")\n",
    "\n",
    "preprocessor = SequenceModelPreprocessor(sequence_lenght=48)\n",
    "\n",
    "X_train, y_train = preprocessor.preprocess(train_data, train_target)\n",
    "X_val, y_val = preprocessor.preprocess(val_data, val_target)"
   ]
  },
  {
   "cell_type": "code",
   "execution_count": 6,
   "metadata": {},
   "outputs": [],
   "source": [
    "model = LSTMRegressionModel(stocks_data.num_features())\n",
    "\n",
    "model.fit(X_train, y_train, max_epochs=200)"
   ]
  }
 ],
 "metadata": {
  "kernelspec": {
   "display_name": "Python 3.8.15 ('trading-algorithms')",
   "language": "python",
   "name": "python3"
  },
  "language_info": {
   "codemirror_mode": {
    "name": "ipython",
    "version": 3
   },
   "file_extension": ".py",
   "mimetype": "text/x-python",
   "name": "python",
   "nbconvert_exporter": "python",
   "pygments_lexer": "ipython3",
   "version": "3.8.15"
  },
  "orig_nbformat": 4,
  "vscode": {
   "interpreter": {
    "hash": "c25b2ea09d6760a58cc13d12de9c944cd1408d2c55ef8156e8102a13839ff9bd"
   }
  }
 },
 "nbformat": 4,
 "nbformat_minor": 2
}
