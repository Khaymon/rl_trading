{
 "cells": [
  {
   "cell_type": "code",
   "execution_count": 1,
   "metadata": {},
   "outputs": [],
   "source": [
    "import sys\n",
    "\n",
    "sys.path.append(\"../\")"
   ]
  },
  {
   "cell_type": "code",
   "execution_count": 4,
   "metadata": {},
   "outputs": [],
   "source": [
    "from stock_data import StocksList, StockData, StocksDataTask\n",
    "from stock_data.samplers import SimpleStockDataSampler\n",
    "from targets import ClosePriceTargetFunction\n",
    "from features import IndicatorsFeaturesList, FeatureFactory\n",
    "from models import GBMRegressionModel\n",
    "\n",
    "from sklearn.metrics import mean_absolute_percentage_error"
   ]
  },
  {
   "cell_type": "code",
   "execution_count": 3,
   "metadata": {},
   "outputs": [],
   "source": [
    "data = StockData(\"AAPL\", data_path=\"../data/AAPL.csv\")\n",
    "data = FeatureFactory.preprocess(data, IndicatorsFeaturesList())\n",
    "target_function = ClosePriceTargetFunction(bars_count=10)\n",
    "\n",
    "stocks_list = StocksList([data])\n",
    "targets_list = target_function.from_stocks_list(stocks_list)\n",
    "\n",
    "task_data = StocksDataTask(stocks_list, targets_list)\n",
    "\n",
    "train_data, test_data = task_data.split(left_side_ratio=0.2)\n",
    "\n",
    "sampler = SimpleStockDataSampler()\n",
    "X_train, y_train = sampler.sample(train_data)\n",
    "X_test, y_test = sampler.sample(test_data)"
   ]
  },
  {
   "cell_type": "code",
   "execution_count": 6,
   "metadata": {},
   "outputs": [
    {
     "name": "stdout",
     "output_type": "stream",
     "text": [
      "MAPE: 0.10311060786645385\n"
     ]
    }
   ],
   "source": [
    "model = GBMRegressionModel()\n",
    "model.fit(X_train, y_train, verbose=False)\n",
    "\n",
    "predictions = model.predict(X_test)\n",
    "\n",
    "metric = mean_absolute_percentage_error(y_test, predictions)\n",
    "print(f\"MAPE: {metric}\")"
   ]
  },
  {
   "cell_type": "code",
   "execution_count": null,
   "metadata": {},
   "outputs": [],
   "source": []
  }
 ],
 "metadata": {
  "kernelspec": {
   "display_name": "Python 3.9.15 ('base')",
   "language": "python",
   "name": "python3"
  },
  "language_info": {
   "codemirror_mode": {
    "name": "ipython",
    "version": 3
   },
   "file_extension": ".py",
   "mimetype": "text/x-python",
   "name": "python",
   "nbconvert_exporter": "python",
   "pygments_lexer": "ipython3",
   "version": "3.9.15"
  },
  "orig_nbformat": 4,
  "vscode": {
   "interpreter": {
    "hash": "ad2bdc8ecc057115af97d19610ffacc2b4e99fae6737bb82f5d7fb13d2f2c186"
   }
  }
 },
 "nbformat": 4,
 "nbformat_minor": 2
}
