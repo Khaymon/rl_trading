{
 "cells": [
  {
   "cell_type": "code",
   "execution_count": 1,
   "metadata": {},
   "outputs": [],
   "source": [
    "from stock_data import StockData\n",
    "from features import IndicatorsFeatureList\n",
    "from features import FeatureFactory\n",
    "import pandas as pd"
   ]
  },
  {
   "cell_type": "code",
   "execution_count": 2,
   "metadata": {},
   "outputs": [],
   "source": [
    "stock_data = StockData(data_path=\"data\\csv\\YNDX.csv\")"
   ]
  },
  {
   "cell_type": "code",
   "execution_count": 3,
   "metadata": {},
   "outputs": [
    {
     "data": {
      "text/html": [
       "<div>\n",
       "<style scoped>\n",
       "    .dataframe tbody tr th:only-of-type {\n",
       "        vertical-align: middle;\n",
       "    }\n",
       "\n",
       "    .dataframe tbody tr th {\n",
       "        vertical-align: top;\n",
       "    }\n",
       "\n",
       "    .dataframe thead th {\n",
       "        text-align: right;\n",
       "    }\n",
       "</style>\n",
       "<table border=\"1\" class=\"dataframe\">\n",
       "  <thead>\n",
       "    <tr style=\"text-align: right;\">\n",
       "      <th></th>\n",
       "      <th>low</th>\n",
       "      <th>open</th>\n",
       "      <th>volume</th>\n",
       "      <th>high</th>\n",
       "      <th>close</th>\n",
       "    </tr>\n",
       "    <tr>\n",
       "      <th>date</th>\n",
       "      <th></th>\n",
       "      <th></th>\n",
       "      <th></th>\n",
       "      <th></th>\n",
       "      <th></th>\n",
       "    </tr>\n",
       "  </thead>\n",
       "  <tbody>\n",
       "    <tr>\n",
       "      <th>2021-04-01</th>\n",
       "      <td>68.699997</td>\n",
       "      <td>70.839996</td>\n",
       "      <td>2120400</td>\n",
       "      <td>71.169998</td>\n",
       "      <td>69.750000</td>\n",
       "    </tr>\n",
       "    <tr>\n",
       "      <th>2021-05-01</th>\n",
       "      <td>69.470001</td>\n",
       "      <td>69.559998</td>\n",
       "      <td>2217200</td>\n",
       "      <td>72.949997</td>\n",
       "      <td>72.160004</td>\n",
       "    </tr>\n",
       "    <tr>\n",
       "      <th>2021-06-01</th>\n",
       "      <td>69.500000</td>\n",
       "      <td>70.599998</td>\n",
       "      <td>2272400</td>\n",
       "      <td>71.120003</td>\n",
       "      <td>70.110001</td>\n",
       "    </tr>\n",
       "    <tr>\n",
       "      <th>2021-07-01</th>\n",
       "      <td>68.760002</td>\n",
       "      <td>70.269997</td>\n",
       "      <td>1222300</td>\n",
       "      <td>71.000000</td>\n",
       "      <td>70.900002</td>\n",
       "    </tr>\n",
       "    <tr>\n",
       "      <th>2021-08-01</th>\n",
       "      <td>70.099998</td>\n",
       "      <td>71.650002</td>\n",
       "      <td>1774700</td>\n",
       "      <td>72.029999</td>\n",
       "      <td>70.900002</td>\n",
       "    </tr>\n",
       "    <tr>\n",
       "      <th>...</th>\n",
       "      <td>...</td>\n",
       "      <td>...</td>\n",
       "      <td>...</td>\n",
       "      <td>...</td>\n",
       "      <td>...</td>\n",
       "    </tr>\n",
       "    <tr>\n",
       "      <th>2022-01-04</th>\n",
       "      <td>18.940001</td>\n",
       "      <td>18.940001</td>\n",
       "      <td>0</td>\n",
       "      <td>18.940001</td>\n",
       "      <td>18.940001</td>\n",
       "    </tr>\n",
       "    <tr>\n",
       "      <th>2022-01-06</th>\n",
       "      <td>18.940001</td>\n",
       "      <td>18.940001</td>\n",
       "      <td>0</td>\n",
       "      <td>18.940001</td>\n",
       "      <td>18.940001</td>\n",
       "    </tr>\n",
       "    <tr>\n",
       "      <th>2022-01-07</th>\n",
       "      <td>18.940001</td>\n",
       "      <td>18.940001</td>\n",
       "      <td>0</td>\n",
       "      <td>18.940001</td>\n",
       "      <td>18.940001</td>\n",
       "    </tr>\n",
       "    <tr>\n",
       "      <th>2022-01-08</th>\n",
       "      <td>18.940001</td>\n",
       "      <td>18.940001</td>\n",
       "      <td>0</td>\n",
       "      <td>18.940001</td>\n",
       "      <td>18.940001</td>\n",
       "    </tr>\n",
       "    <tr>\n",
       "      <th>2022-01-09</th>\n",
       "      <td>18.940001</td>\n",
       "      <td>18.940001</td>\n",
       "      <td>0</td>\n",
       "      <td>18.940001</td>\n",
       "      <td>18.940001</td>\n",
       "    </tr>\n",
       "  </tbody>\n",
       "</table>\n",
       "<p>250 rows × 5 columns</p>\n",
       "</div>"
      ],
      "text/plain": [
       "                  low       open   volume       high      close\n",
       "date                                                           \n",
       "2021-04-01  68.699997  70.839996  2120400  71.169998  69.750000\n",
       "2021-05-01  69.470001  69.559998  2217200  72.949997  72.160004\n",
       "2021-06-01  69.500000  70.599998  2272400  71.120003  70.110001\n",
       "2021-07-01  68.760002  70.269997  1222300  71.000000  70.900002\n",
       "2021-08-01  70.099998  71.650002  1774700  72.029999  70.900002\n",
       "...               ...        ...      ...        ...        ...\n",
       "2022-01-04  18.940001  18.940001        0  18.940001  18.940001\n",
       "2022-01-06  18.940001  18.940001        0  18.940001  18.940001\n",
       "2022-01-07  18.940001  18.940001        0  18.940001  18.940001\n",
       "2022-01-08  18.940001  18.940001        0  18.940001  18.940001\n",
       "2022-01-09  18.940001  18.940001        0  18.940001  18.940001\n",
       "\n",
       "[250 rows x 5 columns]"
      ]
     },
     "execution_count": 3,
     "metadata": {},
     "output_type": "execute_result"
    }
   ],
   "source": [
    "stock_data[pd.Timestamp(\"2021-02-04\"):pd.Timestamp(\"2022-02-04\")]"
   ]
  },
  {
   "cell_type": "code",
   "execution_count": 4,
   "metadata": {},
   "outputs": [],
   "source": [
    "indicators_features = IndicatorsFeatureList()\n",
    "FeatureFactory.preprocess(stock_data, indicators_features)"
   ]
  },
  {
   "cell_type": "code",
   "execution_count": 8,
   "metadata": {},
   "outputs": [],
   "source": [
    "close = stock_data[pd.Timestamp(\"2021-02-04\"):pd.Timestamp(\"2022-02-04\")].close"
   ]
  },
  {
   "cell_type": "code",
   "execution_count": 15,
   "metadata": {},
   "outputs": [
    {
     "data": {
      "text/plain": [
       "date\n",
       "2021-04-01          NaN\n",
       "2021-05-01          NaN\n",
       "2021-06-01          NaN\n",
       "2021-07-01          NaN\n",
       "2021-08-01    70.900002\n",
       "                ...    \n",
       "2022-01-04    18.940001\n",
       "2022-01-06    18.940001\n",
       "2022-01-07    18.940001\n",
       "2022-01-08    18.940001\n",
       "2022-01-09    18.940001\n",
       "Name: close, Length: 250, dtype: float64"
      ]
     },
     "execution_count": 15,
     "metadata": {},
     "output_type": "execute_result"
    }
   ],
   "source": [
    "close.rolling(5).agg(\"median\")"
   ]
  }
 ],
 "metadata": {
  "kernelspec": {
   "display_name": "Python 3.9.7 ('base')",
   "language": "python",
   "name": "python3"
  },
  "language_info": {
   "codemirror_mode": {
    "name": "ipython",
    "version": 3
   },
   "file_extension": ".py",
   "mimetype": "text/x-python",
   "name": "python",
   "nbconvert_exporter": "python",
   "pygments_lexer": "ipython3",
   "version": "3.9.15"
  },
  "orig_nbformat": 4,
  "vscode": {
   "interpreter": {
    "hash": "ad2bdc8ecc057115af97d19610ffacc2b4e99fae6737bb82f5d7fb13d2f2c186"
   }
  }
 },
 "nbformat": 4,
 "nbformat_minor": 2
}
